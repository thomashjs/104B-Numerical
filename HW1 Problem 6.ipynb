{
 "cells": [
  {
   "cell_type": "code",
   "execution_count": 3,
   "id": "ed08c56a",
   "metadata": {},
   "outputs": [
    {
     "name": "stdout",
     "output_type": "stream",
     "text": [
      "2.220446049250313e-16\n",
      "2.220446049250313e-16\n"
     ]
    }
   ],
   "source": [
    "a=4/3\n",
    "b=a-1\n",
    "c=b+b+b\n",
    "eps0=abs(c-1)\n",
    "print(eps0)\n",
    "print(2**(-52))"
   ]
  },
  {
   "cell_type": "markdown",
   "id": "588e981d",
   "metadata": {},
   "source": [
    "This gives the desired result."
   ]
  }
 ],
 "metadata": {
  "kernelspec": {
   "display_name": "Python 3 (ipykernel)",
   "language": "python",
   "name": "python3"
  },
  "language_info": {
   "codemirror_mode": {
    "name": "ipython",
    "version": 3
   },
   "file_extension": ".py",
   "mimetype": "text/x-python",
   "name": "python",
   "nbconvert_exporter": "python",
   "pygments_lexer": "ipython3",
   "version": "3.8.13"
  }
 },
 "nbformat": 4,
 "nbformat_minor": 5
}
