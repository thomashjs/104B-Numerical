{
 "cells": [
  {
   "cell_type": "code",
   "execution_count": null,
   "id": "950f28ec",
   "metadata": {},
   "outputs": [],
   "source": [
    "import numpy as np\n",
    "def A_dot(A,x):\n",
    "    Ax = zeros(x.size)\n",
    "    Ax[0] = A[0,0]*x[0] + A[0,1]*x[1]\n",
    "    Ax[-1] = A[-1,-1]*x[-1] + A[-1,-2]*x[-2]\n",
    "    for i in range(1,len(Ax) - 1):\n",
    "        Ax[i] = A[i,i-1]*x[i-1] + A[i,i]*x[i] + A[i,i+1]*x[i+1]\n",
    "    return Ax\n",
    "\n",
    "def bvp_A(N):\n",
    "    h = 1/N\n",
    "    A = zeros((N - 1, N - 1))\n",
    "    for i in range(0, N - 1):\n",
    "        A[i,i] = 2 + h**2*pi**2\n",
    "        if i > 0:\n",
    "            A[i, i - 1] = -1\n",
    "            A[i - 1, i] = -1\n",
    "    A *= 1/2/h**2/pi**2\n",
    "    return A\n",
    "\n",
    "def conj_grad(N):\n",
    "    tic = time()\n",
    "    TOL = N**(-2)\n",
    "    x = zeros(N - 1)\n",
    "    b = sin( pi*linspace(0,1,N+1)[1:-1] )\n",
    "    A = bvp_A(N)\n",
    "    adot = lambda y: A_dot(A,y)\n",
    "    r = b - adot( x )\n",
    "    v = r\n",
    "    k = 0\n",
    "    while norm(r) > TOL: # at most N - 1 iterations\n",
    "        av = adot(v)\n",
    "        t = dot(r,r)/dot(v,av)\n",
    "        x += t*v\n",
    "        r_p = r.copy()\n",
    "        r -= t*av\n",
    "        s = dot(r,r)/dot(r_p,r_p)\n",
    "        v *= s\n",
    "        v += r\n",
    "        k += 1\n",
    "    print('Solution found in %i iterations for N = %i' % (k,N))\n",
    "    print('TIME: %.15f s' % (time() - tic))\n",
    "    return x"
   ]
  }
 ],
 "metadata": {
  "kernelspec": {
   "display_name": "Python 3 (ipykernel)",
   "language": "python",
   "name": "python3"
  },
  "language_info": {
   "codemirror_mode": {
    "name": "ipython",
    "version": 3
   },
   "file_extension": ".py",
   "mimetype": "text/x-python",
   "name": "python",
   "nbconvert_exporter": "python",
   "pygments_lexer": "ipython3",
   "version": "3.8.13"
  }
 },
 "nbformat": 4,
 "nbformat_minor": 5
}
