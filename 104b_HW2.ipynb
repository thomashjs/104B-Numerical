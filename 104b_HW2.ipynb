{
 "cells": [
  {
   "cell_type": "markdown",
   "id": "0ea5185a",
   "metadata": {},
   "source": [
    "Problem 1\n",
    "Part (a)"
   ]
  },
  {
   "cell_type": "code",
   "execution_count": 21,
   "id": "b921b86e",
   "metadata": {},
   "outputs": [
    {
     "name": "stdout",
     "output_type": "stream",
     "text": [
      "1.6514705137461927\n",
      "1.6494083237722634\n",
      "1.648893017866171\n",
      "1.6487642064853247\n",
      "1.6487320045835219\n",
      "1.6487239541670817\n",
      "1.6487219415666488\n",
      "1.6487214384167714\n",
      "1.648721312629391\n",
      "1.6487212811824747\n",
      "[2.74924305e-03 6.87053072e-04 1.71747166e-04 4.29357852e-05\n",
      " 1.07338834e-05 2.68346695e-06 6.70866521e-07 1.67716643e-07\n",
      " 4.19292627e-08 1.04823465e-08]\n"
     ]
    }
   ],
   "source": [
    "import numpy as np\n",
    "\n",
    "appList=[]\n",
    "def f(x):\n",
    "    return np.exp(x)\n",
    "for i in range(10):\n",
    "    h=0.1/2**i\n",
    "    points=[1/2-h,1/2,1/2+h]\n",
    "    appList.append((f(points[2])-f(points[0]))/(2*h))\n",
    "    print(appList[i])\n",
    "\n",
    "print(appList - f(1/2))"
   ]
  },
  {
   "cell_type": "markdown",
   "id": "d78d6e7d",
   "metadata": {},
   "source": [
    "As h is halved, the error is roughly 1/4=(1/2)^2 of before. Hence the rate of convergence is indeed h^2."
   ]
  },
  {
   "cell_type": "markdown",
   "id": "171071b5",
   "metadata": {},
   "source": [
    "Part (b)"
   ]
  },
  {
   "cell_type": "code",
   "execution_count": 22,
   "id": "a271cce0",
   "metadata": {},
   "outputs": [
    {
     "name": "stdout",
     "output_type": "stream",
     "text": [
      "[ 2.74924305e-03  6.87053072e-04  1.71747166e-04  4.29357852e-05\n",
      "  1.07338834e-05  2.68346695e-06  6.70866521e-07  1.67716643e-07\n",
      "  4.19292627e-08  1.04823465e-08  2.62147015e-09  6.55824728e-10\n",
      "  1.62423852e-10  3.96420674e-11  3.26227934e-12 -1.49276147e-11\n",
      " -1.49276147e-11 -8.76871908e-11 -8.76871908e-11 -8.76871908e-11\n",
      " -6.69763800e-10  4.94389418e-10  5.15100229e-09 -4.16222345e-09\n",
      " -4.16222345e-09 -2.27886749e-08  5.17171310e-08 -2.27886749e-08\n",
      " -1.71800287e-07  4.24246161e-07  4.24246161e-07 -1.95993963e-06\n",
      "  4.24246161e-07  9.96098932e-06  9.96098932e-06 -9.11249700e-06\n",
      " -9.11249700e-06  1.43475394e-04  1.43475394e-04 -1.61700388e-04]\n"
     ]
    }
   ],
   "source": [
    "appList1=[]\n",
    "for i in range(40):\n",
    "    h=0.1/2**i\n",
    "    points=[1/2-h,1/2,1/2+h]\n",
    "    appList1.append((f(points[2])-f(points[0]))/(2*h))\n",
    "print(appList1 - f(1/2))"
   ]
  },
  {
   "cell_type": "markdown",
   "id": "e9e74fd8",
   "metadata": {},
   "source": [
    "Based on the error approximation, h=0.1/(2)^14 corresponding to an error of 3.26227934*10^(-12) appears to be the optimal h."
   ]
  },
  {
   "cell_type": "markdown",
   "id": "db0ae612",
   "metadata": {},
   "source": [
    "Part (c)"
   ]
  },
  {
   "cell_type": "markdown",
   "id": "162c8171",
   "metadata": {},
   "source": [
    "By extrapolation, we may construct $$D^*_h(f')=\\frac{4D_{h/2}(f')-D_h(f')}{3}$$\\\n",
    "which will have an error of $O(h^4)$."
   ]
  },
  {
   "cell_type": "code",
   "execution_count": 32,
   "id": "f3ecad22",
   "metadata": {},
   "outputs": [
    {
     "name": "stdout",
     "output_type": "stream",
     "text": [
      "D*_h where h=0.1/2^0 is 1.6487209271142869\n",
      "The Error for this h is 3.43585841333649e-07\n",
      "D*_h where h=0.1/2^1 is 1.6487212492308068\n",
      "The Error for this h is 2.1469321431766275e-08\n",
      "D*_h where h=0.1/2^2 is 1.648721269358376\n",
      "The Error for this h is 1.3417522648495606e-09\n",
      "D*_h where h=0.1/2^3 is 1.6487212706162542\n",
      "The Error for this h is 8.38740188413567e-11\n",
      "D*_h where h=0.1/2^4 is 1.648721270694935\n",
      "The Error for this h is 5.193179219986632e-12\n",
      "D*_h where h=0.1/2^5 is 1.6487212706998378\n",
      "The Error for this h is 2.9043434324194095e-13\n",
      "D*_h where h=0.1/2^6 is 1.6487212707001457\n",
      "The Error for this h is -1.7541523789077473e-14\n",
      "D*_h where h=0.1/2^7 is 1.648721270700264\n",
      "The Error for this h is -1.3589129821411916e-13\n",
      "D*_h where h=0.1/2^8 is 1.6487212707001693\n",
      "The Error for this h is -4.107825191113079e-14\n",
      "D*_h where h=0.1/2^9 is 1.6487212707013061\n",
      "The Error for this h is -1.177946629127291e-12\n",
      "D*_h where h=0.1/2^10 is 1.6487212707007377\n",
      "The Error for this h is -6.095124405192109e-13\n",
      "D*_h where h=0.1/2^11 is 1.6487212706980852\n",
      "The Error for this h is 2.043032409915213e-12\n",
      "D*_h where h=0.1/2^12 is 1.648721270698843\n",
      "The Error for this h is 1.2851941733060812e-12\n",
      "D*_h where h=0.1/2^13 is 1.648721270691264\n",
      "The Error for this h is 8.864242673212175e-12\n",
      "D*_h where h=0.1/2^14 is 1.6487212706791372\n",
      "The Error for this h is 2.0990986726587835e-11\n",
      "D*_h where h=0.1/2^15 is 1.6487212706852006\n",
      "The Error for this h is 1.4927614699900005e-11\n",
      "D*_h where h=0.1/2^16 is 1.6487212705881877\n",
      "The Error for this h is 1.1194045690388066e-10\n",
      "D*_h where h=0.1/2^17 is 1.648721270612441\n",
      "The Error for this h is 8.768719084173426e-11\n",
      "D*_h where h=0.1/2^18 is 1.648721270612441\n",
      "The Error for this h is 8.768719084173426e-11\n",
      "D*_h where h=0.1/2^19 is 1.648721269836339\n",
      "The Error for this h is 8.637892623397647e-10\n"
     ]
    }
   ],
   "source": [
    "appList2 = []\n",
    "for i in range(20):\n",
    "    h=0.1/2**(i+1)\n",
    "    points=[1/2-h,1/2,1/2+h]\n",
    "    appList2.append((f(points[2])-f(points[0]))/(2*h))\n",
    "    \n",
    "appExtrap = []\n",
    "for i in range(20):\n",
    "    appExtrap.append((4*appList2[i]-appList1[i])/3)\n",
    "    print(\"D*_h where h=0.1/2^\" + str(i) + \" is \" + str(appExtrap[i]))\n",
    "    print(\"The Error for this h is \" + str(f(1/2)-appExtrap[i]))"
   ]
  },
  {
   "cell_type": "markdown",
   "id": "a253b424",
   "metadata": {},
   "source": [
    "Every error is roughly 1/16 of the previous one as h is halved, which confirms the convergence rate of O(h^4).\n",
    "According to the error approximations, the Optimal h appears to be 0.1/2^6. "
   ]
  }
 ],
 "metadata": {
  "kernelspec": {
   "display_name": "Python 3 (ipykernel)",
   "language": "python",
   "name": "python3"
  },
  "language_info": {
   "codemirror_mode": {
    "name": "ipython",
    "version": 3
   },
   "file_extension": ".py",
   "mimetype": "text/x-python",
   "name": "python",
   "nbconvert_exporter": "python",
   "pygments_lexer": "ipython3",
   "version": "3.8.13"
  }
 },
 "nbformat": 4,
 "nbformat_minor": 5
}
