{
 "cells": [
  {
   "cell_type": "markdown",
   "id": "dc3b39dc",
   "metadata": {},
   "source": [
    "Problem 1\n",
    "Part (a)"
   ]
  },
  {
   "cell_type": "code",
   "execution_count": 1,
   "id": "5cef029b",
   "metadata": {},
   "outputs": [],
   "source": [
    "import numpy as np\n",
    "\n",
    "def LinearSolve(M, b):\n",
    "    A=M\n",
    "    if (np.linalg.det(A)<=2**(-53)): #double precision\n",
    "        print(\"The matrix you entered is singular! Please use a nonsingular matrix!\")\n",
    "        return\n",
    "    n = len(A)\n",
    "    L = np.identity(n)\n",
    "    P = np.identity(n)\n",
    "    \n",
    "    for i in range(n-1):\n",
    "        if (A[i][i]==0): #permute if diagonal element is 0\n",
    "            for j in range(i+1,n):\n",
    "                if (A[j][i]!=0):\n",
    "                    tmpP = np.identity(n)\n",
    "                    tmpP[i][i]=0\n",
    "                    tmpP[j][j]=0\n",
    "                    tmpP[i][j]=1\n",
    "                    tmpP[j][i]=1\n",
    "                    A = np.matmul(tmpP,A)\n",
    "                    P = np.matmul(tmpP,P)\n",
    "                    break\n",
    "                    \n",
    "        tmpL = np.identity(n)\n",
    "        for j in range(i+1,n): #constructing L_i\n",
    "            tmpL[j][i] = -(A[j][i])/(A[i][i])\n",
    "        A = np.matmul(tmpL,A)\n",
    "        L = np.matmul(tmpL,L)\n",
    "    b = np.matmul(P,b)\n",
    "    x = np.matmul(np.matmul(np.linalg.inv(A), L),b)\n",
    "    L = np.linalg.inv(L)\n",
    "    return{'U':A,'L':L, 'x':x}\n"
   ]
  },
  {
   "cell_type": "markdown",
   "id": "90188700",
   "metadata": {},
   "source": [
    "Part (b)"
   ]
  },
  {
   "cell_type": "code",
   "execution_count": 2,
   "id": "9adad672",
   "metadata": {},
   "outputs": [
    {
     "data": {
      "text/plain": [
       "{'U': array([[ 5.        ,  1.        ,  0.        ,  2.        ,  1.        ],\n",
       "        [ 0.        ,  4.        ,  0.        ,  1.        ,  2.        ],\n",
       "        [ 0.        ,  0.        ,  4.        ,  0.4       ,  0.4       ],\n",
       "        [ 0.        ,  0.        ,  0.        ,  5.55      , -0.7       ],\n",
       "        [ 0.        ,  0.        ,  0.        ,  0.        ,  4.13963964]]),\n",
       " 'L': array([[1.00000000e+00, 0.00000000e+00, 0.00000000e+00, 0.00000000e+00,\n",
       "         0.00000000e+00],\n",
       "        [0.00000000e+00, 1.00000000e+00, 0.00000000e+00, 0.00000000e+00,\n",
       "         0.00000000e+00],\n",
       "        [2.00000000e-01, 2.00000000e-01, 1.00000000e+00, 0.00000000e+00,\n",
       "         0.00000000e+00],\n",
       "        [0.00000000e+00, 2.50000000e-01, 5.00000000e-01, 1.00000000e+00,\n",
       "         0.00000000e+00],\n",
       "        [2.26295459e-18, 1.38777878e-17, 2.50000000e-01, 3.42342342e-01,\n",
       "         1.00000000e+00]]),\n",
       " 'x': array([-0.17083787, -0.06746464,  0.46028292,  0.52448313,  0.8726877 ])}"
      ]
     },
     "execution_count": 2,
     "metadata": {},
     "output_type": "execute_result"
    }
   ],
   "source": [
    "M = np.array([[5,1,0,2,1],[0,4,0,1,2],[1,1,4,1,1],[0,1,2,6,0],[0,0,1,2,4]])\n",
    "LinearSolve(M,np.array([1,2,3,4,5]))"
   ]
  },
  {
   "cell_type": "markdown",
   "id": "dfb136cc",
   "metadata": {},
   "source": [
    "Part (c)"
   ]
  },
  {
   "cell_type": "code",
   "execution_count": 3,
   "id": "78f950e0",
   "metadata": {},
   "outputs": [
    {
     "name": "stdout",
     "output_type": "stream",
     "text": [
      "The matrix you entered is singular! Please use a nonsingular matrix!\n"
     ]
    }
   ],
   "source": [
    "M = np.array([[5,1,0,2],[0,4,0,8],[1,1,4,2],[0,1,2,2]])\n",
    "LinearSolve(M, [1,2,3,4])"
   ]
  }
 ],
 "metadata": {
  "kernelspec": {
   "display_name": "Python 3 (ipykernel)",
   "language": "python",
   "name": "python3"
  },
  "language_info": {
   "codemirror_mode": {
    "name": "ipython",
    "version": 3
   },
   "file_extension": ".py",
   "mimetype": "text/x-python",
   "name": "python",
   "nbconvert_exporter": "python",
   "pygments_lexer": "ipython3",
   "version": "3.8.13"
  }
 },
 "nbformat": 4,
 "nbformat_minor": 5
}
